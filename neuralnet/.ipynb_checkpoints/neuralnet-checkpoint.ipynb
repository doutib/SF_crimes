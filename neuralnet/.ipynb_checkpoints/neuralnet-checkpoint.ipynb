{
 "cells": [
  {
   "cell_type": "code",
   "execution_count": 42,
   "metadata": {
    "collapsed": false
   },
   "outputs": [],
   "source": [
    "import numpy as np\n",
    "import pandas as pd\n",
    "from sknn.mlp import Classifier, Layer\n",
    "from sklearn.preprocessing import MinMaxScaler\n",
    "from sklearn.metrics import confusion_matrix\n",
    "from sklearn.metrics import log_loss\n",
    "import matplotlib.pyplot as plt\n",
    "import sys\n",
    "import csv"
   ]
  },
  {
   "cell_type": "code",
   "execution_count": 43,
   "metadata": {
    "collapsed": false
   },
   "outputs": [],
   "source": [
    "## # Collect data\n",
    "df = pd.DataFrame.from_csv(\"data_train.csv\", index_col = None)\n",
    "\n",
    "## # Separate labels from data\n",
    "X = df.drop(['Category'], axis = 1)\n",
    "Y = df[['Category']]\n",
    "labels = np.unique(Y)\n",
    "\n",
    "## # Scale Data\n",
    "scaler = MinMaxScaler()\n",
    "X = pd.DataFrame(scaler.fit_transform(X), columns = X.columns)"
   ]
  },
  {
   "cell_type": "code",
   "execution_count": 44,
   "metadata": {
    "collapsed": false
   },
   "outputs": [],
   "source": [
    "## # Define Global Parameters\n",
    "\n",
    "# Import set of global parameters from parameters.csv\n",
    "#index = sys.argv[2]\n",
    "#parameters_file = sys.argv[1]\n",
    "#index = 3\n",
    "#parameters_filename = \"parameters.csv\"\n",
    "\n",
    "df_parameters = pd.DataFrame.from_csv(parameters_filename, index_col = None)\n",
    "parameters = np.array(df_parameters.iloc[[index]])[0]\n",
    "\n",
    "prop_train,method1,neurons1,method2,neurons2,decay,learning_rate,n_iter,random_state=parameters\n",
    "\n",
    "prop_train    = 0.10\n",
    "method1       = \"Tanh\"\n",
    "neurons1      = 1\n",
    "method2       = None\n",
    "neurons2      = None\n",
    "decay         = 0.0001\n",
    "learning_rate = 0.001\n",
    "n_iter        = 25\n",
    "random_state  = 1"
   ]
  },
  {
   "cell_type": "code",
   "execution_count": 45,
   "metadata": {
    "collapsed": false
   },
   "outputs": [],
   "source": [
    "## # Split data set into train/test\n",
    "np.random.seed(seed=1)\n",
    "msk = np.random.rand(len(X)) < prop_train\n",
    "X_train = np.array(X[msk])\n",
    "Y_train = np.array(Y[msk])\n",
    "X_test =  np.array(X[~msk])\n",
    "Y_test =  np.array(Y[~msk])"
   ]
  },
  {
   "cell_type": "code",
   "execution_count": 46,
   "metadata": {
    "collapsed": false
   },
   "outputs": [],
   "source": [
    "# Layers\n",
    "if method2 == None:\n",
    "    layers=[Layer(method1, weight_decay = decay, units = neurons1),\n",
    "            Layer(\"Softmax\")]\n",
    "else:\n",
    "    layers=[Layer(method1, weight_decay = decay, units = neurons1),\n",
    "            Layer(method2, weight_decay = decay, units = neurons2),\n",
    "            Layer(\"Softmax\")]"
   ]
  },
  {
   "cell_type": "code",
   "execution_count": 47,
   "metadata": {
    "collapsed": false
   },
   "outputs": [],
   "source": [
    "## # Run nnet\n",
    "# Define classifier\n",
    "nn = Classifier(layers,\n",
    "                learning_rate=learning_rate,\n",
    "                random_state=random_state,\n",
    "                n_iter=n_iter)\n",
    "# Fit\n",
    "nn.fit(X_train, Y_train)\n",
    "# Predict\n",
    "Y_hat = nn.predict(X_test)\n",
    "Y_probs = nn.predict_proba(X_test)"
   ]
  },
  {
   "cell_type": "code",
   "execution_count": 48,
   "metadata": {
    "collapsed": false,
    "scrolled": true
   },
   "outputs": [],
   "source": [
    "## # Misclassification error rate\n",
    "miss_err = float(sum(Y_test[:,0]!=Y_hat[:,0]))/float(len(Y_test[:,0]))\n",
    "eps = 10^(-15)\n",
    "logloss = log_loss(Y_test, Y_probs, eps = eps)\n",
    "\n",
    "# Summarized results\n",
    "result = np.array([logloss,\n",
    "                   miss_err,\n",
    "                   method1,\n",
    "                   neurons1,\n",
    "                   method2,\n",
    "                   neurons2,\n",
    "                   decay,\n",
    "                   learning_rate,\n",
    "                   n_iter,\n",
    "                   random_state,\n",
    "                   prop_train])"
   ]
  },
  {
   "cell_type": "code",
   "execution_count": 50,
   "metadata": {
    "collapsed": false
   },
   "outputs": [],
   "source": [
    "## # Write result into csv file\n",
    "with open('results.csv', 'wb') as f:\n",
    "    writer = csv.writer(f)\n",
    "    writer.writerows([result])"
   ]
  }
 ],
 "metadata": {
  "kernelspec": {
   "display_name": "Python 2",
   "language": "python",
   "name": "python2"
  },
  "language_info": {
   "codemirror_mode": {
    "name": "ipython",
    "version": 2
   },
   "file_extension": ".py",
   "mimetype": "text/x-python",
   "name": "python",
   "nbconvert_exporter": "python",
   "pygments_lexer": "ipython2",
   "version": "2.7.11"
  }
 },
 "nbformat": 4,
 "nbformat_minor": 0
}
