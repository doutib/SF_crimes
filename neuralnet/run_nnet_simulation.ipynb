{
 "cells": [
  {
   "cell_type": "code",
   "execution_count": 3,
   "metadata": {
    "collapsed": false
   },
   "outputs": [],
   "source": [
    "from nnet import *\n",
    "from time import gmtime, strftime"
   ]
  },
  {
   "cell_type": "code",
   "execution_count": 5,
   "metadata": {
    "collapsed": false
   },
   "outputs": [],
   "source": [
    "## # Collect data\n",
    "df = pd.DataFrame.from_csv(\"data/data_train.csv\", index_col = None)\n",
    "date = strftime(\"%Y-%m-%d_%H:%M:%S\")\n",
    "filename = \"data/results_NNET_\"+date+\".csv\"\n",
    "\n",
    "# Separate labels from data\n",
    "X = df.drop(['Category'], axis = 1)\n",
    "Y = df[['Category']]\n",
    "\n",
    "## # Split data set into train/test\n",
    "prop_train=0.5\n",
    "np.random.seed(seed=1)\n",
    "msk = np.random.rand(len(X)) < prop_train\n",
    "X_train = np.array(X[msk],dtype='float64')\n",
    "Y_train = np.array(Y[msk])\n",
    "X_test =  np.array(X[~msk],dtype='float64')\n",
    "Y_test =  np.array(Y[~msk])"
   ]
  },
  {
   "cell_type": "code",
   "execution_count": 6,
   "metadata": {
    "collapsed": false
   },
   "outputs": [
    {
     "name": "stdout",
     "output_type": "stream",
     "text": [
      "Lauching Simulation...\n",
      "Number of sets of parameters: 16.\n",
      "\n",
      "Parameters:\n",
      "-----------\n",
      "[['Tanh' '12' 'Tanh' '12' '0.0001' '0.001' '25' '1']\n",
      " ['Tanh' '12' 'Tanh' '24' '0.0001' '0.001' '25' '1']\n",
      " ['Tanh' '12' 'Tanh' '39' '0.0001' '0.001' '25' '1']\n",
      " ['Tanh' '12' 'Tanh' '47' '0.0001' '0.001' '25' '1']\n",
      " ['Tanh' '24' 'Tanh' '12' '0.0001' '0.001' '25' '1']\n",
      " ['Tanh' '24' 'Tanh' '24' '0.0001' '0.001' '25' '1']\n",
      " ['Tanh' '24' 'Tanh' '39' '0.0001' '0.001' '25' '1']\n",
      " ['Tanh' '24' 'Tanh' '47' '0.0001' '0.001' '25' '1']\n",
      " ['Tanh' '39' 'Tanh' '12' '0.0001' '0.001' '25' '1']\n",
      " ['Tanh' '39' 'Tanh' '24' '0.0001' '0.001' '25' '1']\n",
      " ['Tanh' '39' 'Tanh' '39' '0.0001' '0.001' '25' '1']\n",
      " ['Tanh' '39' 'Tanh' '47' '0.0001' '0.001' '25' '1']\n",
      " ['Tanh' '47' 'Tanh' '12' '0.0001' '0.001' '25' '1']\n",
      " ['Tanh' '47' 'Tanh' '24' '0.0001' '0.001' '25' '1']\n",
      " ['Tanh' '47' 'Tanh' '39' '0.0001' '0.001' '25' '1']\n",
      " ['Tanh' '47' 'Tanh' '47' '0.0001' '0.001' '25' '1']]\n",
      "\n",
      "Number of identified CPUs: 8.\n",
      "\n",
      "Start 8 clusters.\n",
      "\n",
      "Running...\n"
     ]
    },
    {
     "name": "stderr",
     "output_type": "stream",
     "text": [
      "//anaconda/lib/python2.7/site-packages/sklearn/utils/validation.py:420: DataConversionWarning: Data with input dtype int64 was converted to float64 by MinMaxScaler.\n",
      "  warnings.warn(msg, DataConversionWarning)\n"
     ]
    },
    {
     "ename": "AttributeError",
     "evalue": "'numpy.ndarray' object has no attribute 'columns'",
     "output_type": "error",
     "traceback": [
      "\u001b[0;31m---------------------------------------------------------------------------\u001b[0m",
      "\u001b[0;31mAttributeError\u001b[0m                            Traceback (most recent call last)",
      "\u001b[0;32m<ipython-input-6-46c269894877>\u001b[0m in \u001b[0;36m<module>\u001b[0;34m()\u001b[0m\n\u001b[1;32m     24\u001b[0m                                      \u001b[0mlearning_rate\u001b[0m\u001b[0;34m,\u001b[0m\u001b[0;34m\u001b[0m\u001b[0m\n\u001b[1;32m     25\u001b[0m                                      \u001b[0mn_iter\u001b[0m\u001b[0;34m,\u001b[0m\u001b[0;34m\u001b[0m\u001b[0m\n\u001b[0;32m---> 26\u001b[0;31m                                      random_state)\n\u001b[0m",
      "\u001b[0;32m/Users/doutre/Documents/SF_crimes/neuralnet/nnet.py\u001b[0m in \u001b[0;36mtwo_layers_nnet_simulation\u001b[0;34m(X_train, Y_train, X_test, Y_test, method1, neurons1, method2, neurons2, decay, learning_rate, n_iter, random_state)\u001b[0m\n\u001b[1;32m    218\u001b[0m     \u001b[0;32mprint\u001b[0m \u001b[0;34m'Running...'\u001b[0m\u001b[0;34m\u001b[0m\u001b[0m\n\u001b[1;32m    219\u001b[0m     \u001b[0mpool\u001b[0m \u001b[0;34m=\u001b[0m \u001b[0mPool\u001b[0m\u001b[0;34m(\u001b[0m\u001b[0mprocesses\u001b[0m\u001b[0;34m=\u001b[0m\u001b[0mnum_clusters\u001b[0m\u001b[0;34m)\u001b[0m\u001b[0;34m\u001b[0m\u001b[0m\n\u001b[0;32m--> 220\u001b[0;31m     \u001b[0mresults\u001b[0m \u001b[0;34m=\u001b[0m \u001b[0mpool\u001b[0m\u001b[0;34m.\u001b[0m\u001b[0mmap\u001b[0m\u001b[0;34m(\u001b[0m\u001b[0mprocessInput\u001b[0m\u001b[0;34m,\u001b[0m \u001b[0mtuples_indexes\u001b[0m\u001b[0;34m)\u001b[0m\u001b[0;34m\u001b[0m\u001b[0m\n\u001b[0m\u001b[1;32m    221\u001b[0m     \u001b[0mpool\u001b[0m\u001b[0;34m.\u001b[0m\u001b[0mterminate\u001b[0m\u001b[0;34m(\u001b[0m\u001b[0;34m)\u001b[0m\u001b[0;34m\u001b[0m\u001b[0m\n\u001b[1;32m    222\u001b[0m \u001b[0;34m\u001b[0m\u001b[0m\n",
      "\u001b[0;32m//anaconda/lib/python2.7/multiprocessing/pool.pyc\u001b[0m in \u001b[0;36mmap\u001b[0;34m(self, func, iterable, chunksize)\u001b[0m\n\u001b[1;32m    249\u001b[0m         '''\n\u001b[1;32m    250\u001b[0m         \u001b[0;32massert\u001b[0m \u001b[0mself\u001b[0m\u001b[0;34m.\u001b[0m\u001b[0m_state\u001b[0m \u001b[0;34m==\u001b[0m \u001b[0mRUN\u001b[0m\u001b[0;34m\u001b[0m\u001b[0m\n\u001b[0;32m--> 251\u001b[0;31m         \u001b[0;32mreturn\u001b[0m \u001b[0mself\u001b[0m\u001b[0;34m.\u001b[0m\u001b[0mmap_async\u001b[0m\u001b[0;34m(\u001b[0m\u001b[0mfunc\u001b[0m\u001b[0;34m,\u001b[0m \u001b[0miterable\u001b[0m\u001b[0;34m,\u001b[0m \u001b[0mchunksize\u001b[0m\u001b[0;34m)\u001b[0m\u001b[0;34m.\u001b[0m\u001b[0mget\u001b[0m\u001b[0;34m(\u001b[0m\u001b[0;34m)\u001b[0m\u001b[0;34m\u001b[0m\u001b[0m\n\u001b[0m\u001b[1;32m    252\u001b[0m \u001b[0;34m\u001b[0m\u001b[0m\n\u001b[1;32m    253\u001b[0m     \u001b[0;32mdef\u001b[0m \u001b[0mimap\u001b[0m\u001b[0;34m(\u001b[0m\u001b[0mself\u001b[0m\u001b[0;34m,\u001b[0m \u001b[0mfunc\u001b[0m\u001b[0;34m,\u001b[0m \u001b[0miterable\u001b[0m\u001b[0;34m,\u001b[0m \u001b[0mchunksize\u001b[0m\u001b[0;34m=\u001b[0m\u001b[0;36m1\u001b[0m\u001b[0;34m)\u001b[0m\u001b[0;34m:\u001b[0m\u001b[0;34m\u001b[0m\u001b[0m\n",
      "\u001b[0;32m//anaconda/lib/python2.7/multiprocessing/pool.pyc\u001b[0m in \u001b[0;36mget\u001b[0;34m(self, timeout)\u001b[0m\n\u001b[1;32m    565\u001b[0m             \u001b[0;32mreturn\u001b[0m \u001b[0mself\u001b[0m\u001b[0;34m.\u001b[0m\u001b[0m_value\u001b[0m\u001b[0;34m\u001b[0m\u001b[0m\n\u001b[1;32m    566\u001b[0m         \u001b[0;32melse\u001b[0m\u001b[0;34m:\u001b[0m\u001b[0;34m\u001b[0m\u001b[0m\n\u001b[0;32m--> 567\u001b[0;31m             \u001b[0;32mraise\u001b[0m \u001b[0mself\u001b[0m\u001b[0;34m.\u001b[0m\u001b[0m_value\u001b[0m\u001b[0;34m\u001b[0m\u001b[0m\n\u001b[0m\u001b[1;32m    568\u001b[0m \u001b[0;34m\u001b[0m\u001b[0m\n\u001b[1;32m    569\u001b[0m     \u001b[0;32mdef\u001b[0m \u001b[0m_set\u001b[0m\u001b[0;34m(\u001b[0m\u001b[0mself\u001b[0m\u001b[0;34m,\u001b[0m \u001b[0mi\u001b[0m\u001b[0;34m,\u001b[0m \u001b[0mobj\u001b[0m\u001b[0;34m)\u001b[0m\u001b[0;34m:\u001b[0m\u001b[0;34m\u001b[0m\u001b[0m\n",
      "\u001b[0;31mAttributeError\u001b[0m: 'numpy.ndarray' object has no attribute 'columns'"
     ]
    }
   ],
   "source": [
    "## # Lauch simulation\n",
    "\n",
    "# Parameters\n",
    "method1       = np.array([\"Tanh\",\"Rectifier\",\"Sigmoid\",\"ExpLin\"])\n",
    "neurons1      = np.array([24])#n12,24,39,47])\n",
    "method2       = np.array([\"Tanh\",\"Rectifier\",\"Sigmoid\",\"ExpLin\"])\n",
    "neurons2      = np.array([39])#,12,24,39,47])\n",
    "decay         = np.array([0.0001])\n",
    "learning_rate = np.array([0.001])\n",
    "n_iter        = np.array([25])\n",
    "random_state  = np.array([1])\n",
    "\n",
    "# Write csv file\n",
    "results = two_layers_nnet_simulation(X_train,\n",
    "                                     Y_train,\n",
    "                                     X_test,\n",
    "                                     Y_test,\n",
    "                                     method1,\n",
    "                                     neurons1,\n",
    "                                     method2,\n",
    "                                     neurons2,\n",
    "                                     decay,\n",
    "                                     learning_rate,\n",
    "                                     n_iter,\n",
    "                                     random_state)\n"
   ]
  },
  {
   "cell_type": "code",
   "execution_count": null,
   "metadata": {
    "collapsed": true
   },
   "outputs": [],
   "source": [
    "## # Write into csv file\n",
    "with open(filename, 'wb') as f:\n",
    "    writer = csv.writer(f)\n",
    "    writer.writerow( [\"logloss\",\n",
    "                       \"miss_err\",\n",
    "                       \"prec\",\n",
    "                       \"recall\",\n",
    "                       \"f1\",\n",
    "                       \"method1\",\n",
    "                       \"neurons1\",\n",
    "                       \"method2\",\n",
    "                       \"neurons2\",\n",
    "                       \"decay\",\n",
    "                       \"learning_rate\",\n",
    "                       \"n_iter\",\n",
    "                       \"random_state\"] )\n",
    "    writer.writerows(results)"
   ]
  }
 ],
 "metadata": {
  "kernelspec": {
   "display_name": "Python 2",
   "language": "python",
   "name": "python2"
  },
  "language_info": {
   "codemirror_mode": {
    "name": "ipython",
    "version": 2
   },
   "file_extension": ".py",
   "mimetype": "text/x-python",
   "name": "python",
   "nbconvert_exporter": "python",
   "pygments_lexer": "ipython2",
   "version": "2.7.11"
  }
 },
 "nbformat": 4,
 "nbformat_minor": 0
}
