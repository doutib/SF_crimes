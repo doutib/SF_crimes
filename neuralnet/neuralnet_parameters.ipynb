{
 "cells": [
  {
   "cell_type": "code",
   "execution_count": 7,
   "metadata": {
    "collapsed": true
   },
   "outputs": [],
   "source": [
    "import numpy as np\n",
    "import itertools\n",
    "import csv"
   ]
  },
  {
   "cell_type": "code",
   "execution_count": 8,
   "metadata": {
    "collapsed": false
   },
   "outputs": [],
   "source": [
    "## # Parameters\n",
    "prop_train    = np.array([0.50])\n",
    "method1       = np.array([\"Tanh\",\"Rectifier\",\"Sigmoid\",\"ExpLin\"])\n",
    "neurons1      = np.array([12,24,39,47])\n",
    "method2       = np.array([\"Tanh\",\"Rectifier\",\"Sigmoid\",\"ExpLin\"])\n",
    "neurons2      = np.array([12,24,39,47])\n",
    "decay         = np.array([0.0001])\n",
    "learning_rate = np.array([0.001])\n",
    "n_iter        = np.array([25])\n",
    "random_state  = np.array([1])\n",
    "\n",
    "#prop_train    = np.array([0.50])\n",
    "#method1       = np.array([\"Tanh\"])\n",
    "#neurons1      = np.array([1])\n",
    "#method2       = np.array([\"None\"])\n",
    "#neurons2      = np.array([0])\n",
    "#decay         = np.array([0.0001])\n",
    "#learning_rate = np.array([0.001])\n",
    "#n_iter        = np.array([25])\n",
    "#random_state  = np.array([1,2])\n",
    "\n",
    "parameters = np.array([prop_train,\n",
    "                       method1,\n",
    "                       neurons1,\n",
    "                       method2,\n",
    "                       neurons2,\n",
    "                       decay,\n",
    "                       learning_rate,\n",
    "                       n_iter,\n",
    "                       random_state])"
   ]
  },
  {
   "cell_type": "code",
   "execution_count": 9,
   "metadata": {
    "collapsed": true
   },
   "outputs": [],
   "source": [
    "## # Export csv of parameters combinations\n",
    "with open('data/neuralnet_parameters.csv', 'wb') as csvfile:\n",
    "    spamwriter = csv.writer(csvfile, delimiter=',')\n",
    "    spamwriter.writerow([\"prop_train\",\n",
    "                       \"method1\",\n",
    "                       \"neurons1\",\n",
    "                       \"method2\",\n",
    "                       \"neurons2\",\n",
    "                       \"decay\",\n",
    "                       \"learning_rate\",\n",
    "                       \"n_iter\",\n",
    "                       \"random_state\"])\n",
    "    for element in itertools.product(*parameters):\n",
    "        spamwriter.writerow(element)"
   ]
  },
  {
   "cell_type": "code",
   "execution_count": null,
   "metadata": {
    "collapsed": true
   },
   "outputs": [],
   "source": []
  }
 ],
 "metadata": {
  "kernelspec": {
   "display_name": "Python 2",
   "language": "python",
   "name": "python2"
  },
  "language_info": {
   "codemirror_mode": {
    "name": "ipython",
    "version": 2
   },
   "file_extension": ".py",
   "mimetype": "text/x-python",
   "name": "python",
   "nbconvert_exporter": "python",
   "pygments_lexer": "ipython2",
   "version": "2.7.11"
  }
 },
 "nbformat": 4,
 "nbformat_minor": 0
}
