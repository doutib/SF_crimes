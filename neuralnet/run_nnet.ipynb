{
 "cells": [
  {
   "cell_type": "code",
   "execution_count": 2,
   "metadata": {
    "collapsed": false
   },
   "outputs": [
    {
     "ename": "SyntaxError",
     "evalue": "invalid syntax (nnet.py, line 142)",
     "output_type": "error",
     "traceback": [
      "\u001b[0;36m  File \u001b[0;32m\"/Users/doutre/Documents/SF_crimes/neuralnet/nnet.py\"\u001b[0;36m, line \u001b[0;32m142\u001b[0m\n\u001b[0;31m    def processInput((X_train,Y_train,X_test,Y_test,parameters,index)):\u001b[0m\n\u001b[0m                     ^\u001b[0m\n\u001b[0;31mSyntaxError\u001b[0m\u001b[0;31m:\u001b[0m invalid syntax\n"
     ]
    }
   ],
   "source": [
    "from nnet import *\n",
    "from time import gmtime, strftime"
   ]
  },
  {
   "cell_type": "code",
   "execution_count": 3,
   "metadata": {
    "collapsed": false
   },
   "outputs": [
    {
     "ename": "NameError",
     "evalue": "name 'pd' is not defined",
     "output_type": "error",
     "traceback": [
      "\u001b[0;31m---------------------------------------------------------------------------\u001b[0m",
      "\u001b[0;31mNameError\u001b[0m                                 Traceback (most recent call last)",
      "\u001b[0;32m<ipython-input-3-d6adb2376036>\u001b[0m in \u001b[0;36m<module>\u001b[0;34m()\u001b[0m\n\u001b[1;32m      1\u001b[0m \u001b[0;31m## # Collect data\u001b[0m\u001b[0;34m\u001b[0m\u001b[0;34m\u001b[0m\u001b[0m\n\u001b[0;32m----> 2\u001b[0;31m \u001b[0mdf\u001b[0m \u001b[0;34m=\u001b[0m \u001b[0mpd\u001b[0m\u001b[0;34m.\u001b[0m\u001b[0mDataFrame\u001b[0m\u001b[0;34m.\u001b[0m\u001b[0mfrom_csv\u001b[0m\u001b[0;34m(\u001b[0m\u001b[0;34m\"data/data_train.csv\"\u001b[0m\u001b[0;34m,\u001b[0m \u001b[0mindex_col\u001b[0m \u001b[0;34m=\u001b[0m \u001b[0;32mNone\u001b[0m\u001b[0;34m)\u001b[0m\u001b[0;34m\u001b[0m\u001b[0m\n\u001b[0m\u001b[1;32m      3\u001b[0m \u001b[0mdate\u001b[0m \u001b[0;34m=\u001b[0m \u001b[0mstrftime\u001b[0m\u001b[0;34m(\u001b[0m\u001b[0;34m\"%Y-%m-%d_%H:%M:%S\"\u001b[0m\u001b[0;34m)\u001b[0m\u001b[0;34m\u001b[0m\u001b[0m\n\u001b[1;32m      4\u001b[0m \u001b[0mfilename\u001b[0m \u001b[0;34m=\u001b[0m \u001b[0;34m\"data/results_NNET_\"\u001b[0m\u001b[0;34m+\u001b[0m\u001b[0mdate\u001b[0m\u001b[0;34m+\u001b[0m\u001b[0;34m\".csv\"\u001b[0m\u001b[0;34m\u001b[0m\u001b[0m\n\u001b[1;32m      5\u001b[0m \u001b[0;34m\u001b[0m\u001b[0m\n",
      "\u001b[0;31mNameError\u001b[0m: name 'pd' is not defined"
     ]
    }
   ],
   "source": [
    "## # Collect data\n",
    "df = pd.DataFrame.from_csv(\"data/data_train.csv\", index_col = None)\n",
    "date = strftime(\"%Y-%m-%d_%H:%M:%S\")\n",
    "filename = \"data/predictions_NNET_\"+date+\".csv\"\n",
    "\n",
    "# Separate labels from data\n",
    "X = df.drop(['Category'], axis = 1)\n",
    "Y = df[['Category']]\n",
    "\n",
    "## # Load train data\n",
    "np.random.seed(seed=1)\n",
    "X_train = np.array(X,dtype='float64')\n",
    "Y_train = np.array(Y)"
   ]
  },
  {
   "cell_type": "code",
   "execution_count": null,
   "metadata": {
    "collapsed": true
   },
   "outputs": [],
   "source": [
    "## # Run algorithm\n",
    "\n",
    "# Parameters\n",
    "method1       = \"Tanh\"\n",
    "neurons1      = 1#39\n",
    "method2       = \"Tanh\"\n",
    "neurons2      = 0#53\n",
    "decay         = 0.001\n",
    "learning_rate = 0.001\n",
    "n_iter        = 1#500\n",
    "random_state  = 1\n",
    "\n",
    "# Write csv file\n",
    "results = two_layers_nnet_predict(X_train,\n",
    "                                  Y_train,\n",
    "                                  X_test,\n",
    "                                  method1,\n",
    "                                  neurons1,\n",
    "                                  method2,\n",
    "                                  neurons2,\n",
    "                                  decay,\n",
    "                                  learning_rate,\n",
    "                                  n_iter,\n",
    "                                  random_state)"
   ]
  },
  {
   "cell_type": "code",
   "execution_count": 7,
   "metadata": {
    "collapsed": false
   },
   "outputs": [
    {
     "ename": "NameError",
     "evalue": "name 'filename' is not defined",
     "output_type": "error",
     "traceback": [
      "\u001b[0;31m---------------------------------------------------------------------------\u001b[0m",
      "\u001b[0;31mNameError\u001b[0m                                 Traceback (most recent call last)",
      "\u001b[0;32m<ipython-input-7-5b028ba3f0bc>\u001b[0m in \u001b[0;36m<module>\u001b[0;34m()\u001b[0m\n\u001b[0;32m----> 1\u001b[0;31m \u001b[0;32mwith\u001b[0m \u001b[0mopen\u001b[0m\u001b[0;34m(\u001b[0m\u001b[0mfilename\u001b[0m\u001b[0;34m,\u001b[0m \u001b[0;34m'wb'\u001b[0m\u001b[0;34m)\u001b[0m \u001b[0;32mas\u001b[0m \u001b[0mf\u001b[0m\u001b[0;34m:\u001b[0m\u001b[0;34m\u001b[0m\u001b[0m\n\u001b[0m\u001b[1;32m      2\u001b[0m     \u001b[0mwriter\u001b[0m \u001b[0;34m=\u001b[0m \u001b[0mcsv\u001b[0m\u001b[0;34m.\u001b[0m\u001b[0mwriter\u001b[0m\u001b[0;34m(\u001b[0m\u001b[0mf\u001b[0m\u001b[0;34m)\u001b[0m\u001b[0;34m\u001b[0m\u001b[0m\n\u001b[1;32m      3\u001b[0m     writer.writerow( [\"Id\",\n\u001b[1;32m      4\u001b[0m                       \u001b[0;34m\"ARSON\"\u001b[0m\u001b[0;34m,\u001b[0m\u001b[0;34m\u001b[0m\u001b[0m\n\u001b[1;32m      5\u001b[0m                       \u001b[0;34m\"ASSAULT\"\u001b[0m\u001b[0;34m,\u001b[0m\u001b[0;34m\u001b[0m\u001b[0m\n",
      "\u001b[0;31mNameError\u001b[0m: name 'filename' is not defined"
     ]
    }
   ],
   "source": [
    "with open(filename, 'wb') as f:\n",
    "    writer = csv.writer(f)\n",
    "    writer.writerow( [\"Id\",\n",
    "                      \"ARSON\",\n",
    "                      \"ASSAULT\",\n",
    "                      \"BAD CHECKS\",\n",
    "                      \"BRIBERY\",\n",
    "                      \"BURGLARY\",\n",
    "                      \"DISORDERLY CONDUCT\",\n",
    "                      \"DRIVING UNDER THE INFLUENCE\",\n",
    "                      \"DRUG/NARCOTIC\",\n",
    "                      \"DRUNKENNESS\",\n",
    "                      \"EMBEZZLEMENT\",\n",
    "                      \"EXTORTION\",\n",
    "                      \"FAMILY OFFENSES\",\n",
    "                      \"FORGERY/COUNTERFEITING\",\n",
    "                      \"FRAUD,GAMBLING\",\n",
    "                      \"KIDNAPPING\",\n",
    "                      \"LARCENY/THEFT\",\n",
    "                      \"LIQUOR LAWS\",\n",
    "                      \"LOITERING\",\n",
    "                      \"MISSING PERSON\",\n",
    "                      \"NON-CRIMINAL\",\n",
    "                      \"OTHER OFFENSES\",\n",
    "                      \"PORNOGRAPHY/OBSCENE MAT\",\n",
    "                      \"PROSTITUTION\",\n",
    "                      \"RECOVERED VEHICLE\",\n",
    "                      \"ROBBERY\",\n",
    "                      \"RUNAWAY\",\n",
    "                      \"SECONDARY CODES\",\n",
    "                      \"SEX OFFENSES FORCIBLE\",\n",
    "                      \"SEX OFFENSES NON FORCIBLE\",\n",
    "                      \"STOLEN PROPERTY\",\n",
    "                      \"SUICIDE\",\n",
    "                      \"SUSPICIOUS OCC\",\n",
    "                      \"TREA\",\n",
    "                      \"TRESPASS\",\n",
    "                      \"VANDALISM\",\n",
    "                      \"VEHICLE THEFT\",\n",
    "                      \"WARRANTS\",\n",
    "                      \"WEAPON LAWS\"] )\n",
    "    # Index\n",
    "    n = test.shape[0]\n",
    "    index = np.ndarray((n,1), buffer=np.arange(n+1),dtype=int)\n",
    "    results = np.hstack((index,results))\n",
    "    # Results\n",
    "    writer.writerows(results)"
   ]
  },
  {
   "cell_type": "code",
   "execution_count": null,
   "metadata": {
    "collapsed": true
   },
   "outputs": [],
   "source": []
  },
  {
   "cell_type": "code",
   "execution_count": null,
   "metadata": {
    "collapsed": true
   },
   "outputs": [],
   "source": []
  },
  {
   "cell_type": "code",
   "execution_count": null,
   "metadata": {
    "collapsed": true
   },
   "outputs": [],
   "source": []
  }
 ],
 "metadata": {
  "kernelspec": {
   "display_name": "Python 3",
   "language": "python",
   "name": "python3"
  },
  "language_info": {
   "codemirror_mode": {
    "name": "ipython",
    "version": 3
   },
   "file_extension": ".py",
   "mimetype": "text/x-python",
   "name": "python",
   "nbconvert_exporter": "python",
   "pygments_lexer": "ipython3",
   "version": "3.5.1"
  }
 },
 "nbformat": 4,
 "nbformat_minor": 0
}
