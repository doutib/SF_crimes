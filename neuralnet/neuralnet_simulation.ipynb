{
 "cells": [
  {
   "cell_type": "code",
   "execution_count": 18,
   "metadata": {
    "collapsed": false
   },
   "outputs": [],
   "source": [
    "from neuralnet_function import *\n",
    "from multiprocessing import Pool\n",
    "from multiprocessing import cpu_count"
   ]
  },
  {
   "cell_type": "code",
   "execution_count": 13,
   "metadata": {
    "collapsed": false
   },
   "outputs": [],
   "source": [
    "## # Collect data\n",
    "df = pd.DataFrame.from_csv(\"data/data_train.csv\", index_col = None)\n",
    "## # Separate labels from data\n",
    "X = df.drop(['Category'], axis = 1)\n",
    "Y = df[['Category']]\n",
    "\n",
    "## Parallelization parameters\n",
    "num_cpu = cpu_count()          # Number of clusters\n",
    "pool = Pool(processes=num_cpu) # Nb of processes\n",
    "max_t =  10*60                 # Max time to wait for each process"
   ]
  },
  {
   "cell_type": "code",
   "execution_count": 14,
   "metadata": {
    "collapsed": false
   },
   "outputs": [],
   "source": [
    "# Import set of global parameters from parameters.csv\n",
    "parameters_filename = \"data/parameters.csv\"\n",
    "\n",
    "# Import parameters\n",
    "df_parameters = pd.DataFrame.from_csv(parameters_filename, index_col = None)\n",
    "indexes = np.arange(df_parameters.shape[0]+1) \n",
    "\n",
    "def processInput(index): \n",
    "    # Load parameters\n",
    "    parameters = np.array(df_parameters.iloc[[index]])[0]\n",
    "    # Define parameters\n",
    "    prop_train,method1,neurons1,method2,neurons2,decay,learning_rate,n_iter,random_state=parameters\n",
    "    # Run nnet\n",
    "    result = two_layers_nnet(X,\n",
    "                             Y,\n",
    "                             prop_train,\n",
    "                             method1,\n",
    "                             neurons1,\n",
    "                             method2,\n",
    "                             neurons2,\n",
    "                             decay,\n",
    "                             learning_rate,\n",
    "                             n_iter,\n",
    "                             random_state)\n",
    "    return result"
   ]
  },
  {
   "cell_type": "code",
   "execution_count": null,
   "metadata": {
    "collapsed": true
   },
   "outputs": [],
   "source": [
    "## # Store result into csv\n",
    "with open('data/results.csv', 'wb') as f:\n",
    "    writer = csv.writer(f)\n",
    "    for index in indexes:\n",
    "        try:\n",
    "            writer.writerows(res.get(timeout=1))\n",
    "        except TimeoutError:\n",
    "            print \"We lacked patience and got a multiprocessing.TimeoutError\""
   ]
  }
 ],
 "metadata": {
  "kernelspec": {
   "display_name": "Python 2",
   "language": "python",
   "name": "python2"
  },
  "language_info": {
   "codemirror_mode": {
    "name": "ipython",
    "version": 2
   },
   "file_extension": ".py",
   "mimetype": "text/x-python",
   "name": "python",
   "nbconvert_exporter": "python",
   "pygments_lexer": "ipython2",
   "version": "2.7.11"
  }
 },
 "nbformat": 4,
 "nbformat_minor": 0
}
