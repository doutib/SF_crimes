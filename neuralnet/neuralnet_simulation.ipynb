{
 "cells": [
  {
   "cell_type": "code",
   "execution_count": 6,
   "metadata": {
    "collapsed": false
   },
   "outputs": [],
   "source": [
    "from neuralnet_function import *\n",
    "from multiprocessing import Pool, TimeoutError\n",
    "from multiprocessing import cpu_count"
   ]
  },
  {
   "cell_type": "code",
   "execution_count": 7,
   "metadata": {
    "collapsed": false
   },
   "outputs": [],
   "source": [
    "## # Collect data\n",
    "df = pd.DataFrame.from_csv(\"data/data_train.csv\", index_col = None)\n",
    "## # Separate labels from data\n",
    "X = df.drop(['Category'], axis = 1)\n",
    "Y = df[['Category']]"
   ]
  },
  {
   "cell_type": "code",
   "execution_count": 10,
   "metadata": {
    "collapsed": false
   },
   "outputs": [],
   "source": [
    "# Import set of global parameters from parameters.csv\n",
    "parameters_filename = \"data/parameters.csv\"\n",
    "\n",
    "# Import parameters\n",
    "df_parameters = pd.DataFrame.from_csv(parameters_filename, index_col = None)\n",
    "indexes = np.arange(df_parameters.shape[0]+1) "
   ]
  },
  {
   "cell_type": "code",
   "execution_count": 11,
   "metadata": {
    "collapsed": true
   },
   "outputs": [],
   "source": [
    "def processInput(index): \n",
    "    # Load parameters\n",
    "    parameters = np.array(df_parameters.iloc[[index]])[0]\n",
    "    # Define parameters\n",
    "    prop_train,method1,neurons1,method2,neurons2,decay,learning_rate,n_iter,random_state=parameters\n",
    "    # Run nnet\n",
    "    result = two_layers_nnet(X,\n",
    "                             Y,\n",
    "                             prop_train,\n",
    "                             method1,\n",
    "                             neurons1,\n",
    "                             method2,\n",
    "                             neurons2,\n",
    "                             decay,\n",
    "                             learning_rate,\n",
    "                             n_iter,\n",
    "                             random_state)\n",
    "    return result"
   ]
  },
  {
   "cell_type": "code",
   "execution_count": null,
   "metadata": {
    "collapsed": true
   },
   "outputs": [],
   "source": [
    "## Parallelization parameters\n",
    "num_cpu = cpu_count()          # Number of clusters\n",
    "pool = Pool(processes=num_cpu) # Nb of processes\n",
    "max_t =  10*60                 # Max time to wait for each process"
   ]
  },
  {
   "cell_type": "code",
   "execution_count": 12,
   "metadata": {
    "collapsed": false
   },
   "outputs": [
    {
     "name": "stdout",
     "output_type": "stream",
     "text": [
      "Start job 0...\n"
     ]
    },
    {
     "name": "stderr",
     "output_type": "stream",
     "text": [
      "Process PoolWorker-16:\n",
      "Process PoolWorker-13:\n",
      "Process PoolWorker-15:\n",
      "Process PoolWorker-10:\n",
      "Process PoolWorker-12:\n",
      "Process PoolWorker-14:\n",
      "Process PoolWorker-11:\n",
      "Process PoolWorker-17:\n",
      "Traceback (most recent call last):\n",
      "Traceback (most recent call last):\n",
      "Traceback (most recent call last):\n",
      "Traceback (most recent call last):\n",
      "Traceback (most recent call last):\n",
      "Traceback (most recent call last):\n",
      "Traceback (most recent call last):\n",
      "Traceback (most recent call last):\n",
      "  File \"//anaconda/lib/python2.7/multiprocessing/process.py\", line 258, in _bootstrap\n",
      "  File \"//anaconda/lib/python2.7/multiprocessing/process.py\", line 258, in _bootstrap\n",
      "  File \"//anaconda/lib/python2.7/multiprocessing/process.py\", line 258, in _bootstrap\n",
      "  File \"//anaconda/lib/python2.7/multiprocessing/process.py\", line 258, in _bootstrap\n",
      "  File \"//anaconda/lib/python2.7/multiprocessing/process.py\", line 258, in _bootstrap\n",
      "  File \"//anaconda/lib/python2.7/multiprocessing/process.py\", line 258, in _bootstrap\n",
      "  File \"//anaconda/lib/python2.7/multiprocessing/process.py\", line 258, in _bootstrap\n",
      "  File \"//anaconda/lib/python2.7/multiprocessing/process.py\", line 258, in _bootstrap\n",
      "    self.run()\n",
      "    self.run()\n",
      "    self.run()\n",
      "    self.run()\n",
      "    self.run()\n",
      "    self.run()\n",
      "    self.run()\n",
      "    self.run()\n",
      "  File \"//anaconda/lib/python2.7/multiprocessing/process.py\", line 114, in run\n",
      "  File \"//anaconda/lib/python2.7/multiprocessing/process.py\", line 114, in run\n",
      "  File \"//anaconda/lib/python2.7/multiprocessing/process.py\", line 114, in run\n",
      "  File \"//anaconda/lib/python2.7/multiprocessing/process.py\", line 114, in run\n",
      "  File \"//anaconda/lib/python2.7/multiprocessing/process.py\", line 114, in run\n",
      "  File \"//anaconda/lib/python2.7/multiprocessing/process.py\", line 114, in run\n",
      "  File \"//anaconda/lib/python2.7/multiprocessing/process.py\", line 114, in run\n",
      "  File \"//anaconda/lib/python2.7/multiprocessing/process.py\", line 114, in run\n",
      "    self._target(*self._args, **self._kwargs)\n",
      "    self._target(*self._args, **self._kwargs)\n",
      "    self._target(*self._args, **self._kwargs)\n",
      "    self._target(*self._args, **self._kwargs)\n",
      "    self._target(*self._args, **self._kwargs)\n",
      "    self._target(*self._args, **self._kwargs)\n",
      "    self._target(*self._args, **self._kwargs)\n",
      "    self._target(*self._args, **self._kwargs)\n",
      "  File \"//anaconda/lib/python2.7/multiprocessing/pool.py\", line 102, in worker\n",
      "  File \"//anaconda/lib/python2.7/multiprocessing/pool.py\", line 102, in worker\n",
      "  File \"//anaconda/lib/python2.7/multiprocessing/pool.py\", line 102, in worker\n",
      "  File \"//anaconda/lib/python2.7/multiprocessing/pool.py\", line 113, in worker\n",
      "  File \"//anaconda/lib/python2.7/multiprocessing/pool.py\", line 102, in worker\n",
      "  File \"//anaconda/lib/python2.7/multiprocessing/pool.py\", line 102, in worker\n",
      "  File \"//anaconda/lib/python2.7/multiprocessing/pool.py\", line 102, in worker\n",
      "  File \"//anaconda/lib/python2.7/multiprocessing/pool.py\", line 102, in worker\n",
      "    task = get()\n",
      "    task = get()\n",
      "    task = get()\n",
      "    result = (True, func(*args, **kwds))\n",
      "    task = get()\n",
      "    task = get()\n",
      "    task = get()\n",
      "    task = get()\n",
      "  File \"//anaconda/lib/python2.7/multiprocessing/queues.py\", line 376, in get\n",
      "  File \"//anaconda/lib/python2.7/multiprocessing/queues.py\", line 376, in get\n",
      "  File \"//anaconda/lib/python2.7/multiprocessing/queues.py\", line 376, in get\n",
      "  File \"<ipython-input-8-1833945a9f98>\", line 24, in processInput\n",
      "  File \"//anaconda/lib/python2.7/multiprocessing/queues.py\", line 376, in get\n",
      "  File \"//anaconda/lib/python2.7/multiprocessing/queues.py\", line 376, in get\n",
      "  File \"//anaconda/lib/python2.7/multiprocessing/queues.py\", line 378, in get\n",
      "  File \"//anaconda/lib/python2.7/multiprocessing/queues.py\", line 376, in get\n",
      "    racquire()\n",
      "    racquire()\n",
      "    racquire()\n",
      "    random_state)\n",
      "    racquire()\n",
      "    racquire()\n",
      "    return recv()\n",
      "    racquire()\n",
      "KeyboardInterrupt\n",
      "KeyboardInterrupt\n",
      "KeyboardInterrupt\n",
      "  File \"neuralnet_function.py\", line 100, in two_layers_nnet\n",
      "KeyboardInterrupt\n",
      "KeyboardInterrupt\n",
      "KeyboardInterrupt\n",
      "KeyboardInterrupt\n",
      "    nn.fit(X_train, Y_train)\n",
      "  File \"//anaconda/lib/python2.7/site-packages/sknn/mlp.py\", line 390, in fit\n",
      "    return super(Classifier, self)._fit(X, yp, w)\n",
      "  File \"//anaconda/lib/python2.7/site-packages/sknn/mlp.py\", line 232, in _fit\n"
     ]
    },
    {
     "ename": "KeyboardInterrupt",
     "evalue": "",
     "output_type": "error",
     "traceback": [
      "\u001b[0;31m---------------------------------------------------------------------------\u001b[0m",
      "\u001b[0;31mKeyboardInterrupt\u001b[0m                         Traceback (most recent call last)",
      "\u001b[0;32m<ipython-input-12-d4e8d745c6f3>\u001b[0m in \u001b[0;36m<module>\u001b[0;34m()\u001b[0m\n\u001b[1;32m      6\u001b[0m             \u001b[0;32mprint\u001b[0m \u001b[0;34m\"Start job %s...\"\u001b[0m \u001b[0;34m%\u001b[0m \u001b[0mindex\u001b[0m\u001b[0;34m\u001b[0m\u001b[0m\n\u001b[1;32m      7\u001b[0m             \u001b[0mres\u001b[0m \u001b[0;34m=\u001b[0m \u001b[0mpool\u001b[0m\u001b[0;34m.\u001b[0m\u001b[0mapply_async\u001b[0m\u001b[0;34m(\u001b[0m\u001b[0mprocessInput\u001b[0m\u001b[0;34m,\u001b[0m \u001b[0;34m[\u001b[0m\u001b[0mindex\u001b[0m\u001b[0;34m]\u001b[0m\u001b[0;34m)\u001b[0m      \u001b[0;31m# runs in *only* one process\u001b[0m\u001b[0;34m\u001b[0m\u001b[0m\n\u001b[0;32m----> 8\u001b[0;31m             \u001b[0mwriter\u001b[0m\u001b[0;34m.\u001b[0m\u001b[0mwriterows\u001b[0m\u001b[0;34m(\u001b[0m\u001b[0mres\u001b[0m\u001b[0;34m.\u001b[0m\u001b[0mget\u001b[0m\u001b[0;34m(\u001b[0m\u001b[0mtimeout\u001b[0m\u001b[0;34m=\u001b[0m\u001b[0mmax_t\u001b[0m\u001b[0;34m)\u001b[0m\u001b[0;34m)\u001b[0m\u001b[0;34m\u001b[0m\u001b[0m\n\u001b[0m\u001b[1;32m      9\u001b[0m             \u001b[0;32mprint\u001b[0m \u001b[0;34m\"Job %s done.\"\u001b[0m \u001b[0;34m%\u001b[0m \u001b[0mindex\u001b[0m\u001b[0;34m\u001b[0m\u001b[0m\n\u001b[1;32m     10\u001b[0m         \u001b[0;32mexcept\u001b[0m \u001b[0mTimeoutError\u001b[0m\u001b[0;34m:\u001b[0m\u001b[0;34m\u001b[0m\u001b[0m\n",
      "\u001b[0;32m//anaconda/lib/python2.7/multiprocessing/pool.pyc\u001b[0m in \u001b[0;36mget\u001b[0;34m(self, timeout)\u001b[0m\n\u001b[1;32m    559\u001b[0m \u001b[0;34m\u001b[0m\u001b[0m\n\u001b[1;32m    560\u001b[0m     \u001b[0;32mdef\u001b[0m \u001b[0mget\u001b[0m\u001b[0;34m(\u001b[0m\u001b[0mself\u001b[0m\u001b[0;34m,\u001b[0m \u001b[0mtimeout\u001b[0m\u001b[0;34m=\u001b[0m\u001b[0mNone\u001b[0m\u001b[0;34m)\u001b[0m\u001b[0;34m:\u001b[0m\u001b[0;34m\u001b[0m\u001b[0m\n\u001b[0;32m--> 561\u001b[0;31m         \u001b[0mself\u001b[0m\u001b[0;34m.\u001b[0m\u001b[0mwait\u001b[0m\u001b[0;34m(\u001b[0m\u001b[0mtimeout\u001b[0m\u001b[0;34m)\u001b[0m\u001b[0;34m\u001b[0m\u001b[0m\n\u001b[0m\u001b[1;32m    562\u001b[0m         \u001b[0;32mif\u001b[0m \u001b[0;32mnot\u001b[0m \u001b[0mself\u001b[0m\u001b[0;34m.\u001b[0m\u001b[0m_ready\u001b[0m\u001b[0;34m:\u001b[0m\u001b[0;34m\u001b[0m\u001b[0m\n\u001b[1;32m    563\u001b[0m             \u001b[0;32mraise\u001b[0m \u001b[0mTimeoutError\u001b[0m\u001b[0;34m\u001b[0m\u001b[0m\n",
      "\u001b[0;32m//anaconda/lib/python2.7/multiprocessing/pool.pyc\u001b[0m in \u001b[0;36mwait\u001b[0;34m(self, timeout)\u001b[0m\n\u001b[1;32m    554\u001b[0m         \u001b[0;32mtry\u001b[0m\u001b[0;34m:\u001b[0m\u001b[0;34m\u001b[0m\u001b[0m\n\u001b[1;32m    555\u001b[0m             \u001b[0;32mif\u001b[0m \u001b[0;32mnot\u001b[0m \u001b[0mself\u001b[0m\u001b[0;34m.\u001b[0m\u001b[0m_ready\u001b[0m\u001b[0;34m:\u001b[0m\u001b[0;34m\u001b[0m\u001b[0m\n\u001b[0;32m--> 556\u001b[0;31m                 \u001b[0mself\u001b[0m\u001b[0;34m.\u001b[0m\u001b[0m_cond\u001b[0m\u001b[0;34m.\u001b[0m\u001b[0mwait\u001b[0m\u001b[0;34m(\u001b[0m\u001b[0mtimeout\u001b[0m\u001b[0;34m)\u001b[0m\u001b[0;34m\u001b[0m\u001b[0m\n\u001b[0m\u001b[1;32m    557\u001b[0m         \u001b[0;32mfinally\u001b[0m\u001b[0;34m:\u001b[0m\u001b[0;34m\u001b[0m\u001b[0m\n\u001b[1;32m    558\u001b[0m             \u001b[0mself\u001b[0m\u001b[0;34m.\u001b[0m\u001b[0m_cond\u001b[0m\u001b[0;34m.\u001b[0m\u001b[0mrelease\u001b[0m\u001b[0;34m(\u001b[0m\u001b[0;34m)\u001b[0m\u001b[0;34m\u001b[0m\u001b[0m\n",
      "\u001b[0;32m//anaconda/lib/python2.7/threading.pyc\u001b[0m in \u001b[0;36mwait\u001b[0;34m(self, timeout)\u001b[0m\n\u001b[1;32m    357\u001b[0m                         \u001b[0;32mbreak\u001b[0m\u001b[0;34m\u001b[0m\u001b[0m\n\u001b[1;32m    358\u001b[0m                     \u001b[0mdelay\u001b[0m \u001b[0;34m=\u001b[0m \u001b[0mmin\u001b[0m\u001b[0;34m(\u001b[0m\u001b[0mdelay\u001b[0m \u001b[0;34m*\u001b[0m \u001b[0;36m2\u001b[0m\u001b[0;34m,\u001b[0m \u001b[0mremaining\u001b[0m\u001b[0;34m,\u001b[0m \u001b[0;36m.05\u001b[0m\u001b[0;34m)\u001b[0m\u001b[0;34m\u001b[0m\u001b[0m\n\u001b[0;32m--> 359\u001b[0;31m                     \u001b[0m_sleep\u001b[0m\u001b[0;34m(\u001b[0m\u001b[0mdelay\u001b[0m\u001b[0;34m)\u001b[0m\u001b[0;34m\u001b[0m\u001b[0m\n\u001b[0m\u001b[1;32m    360\u001b[0m                 \u001b[0;32mif\u001b[0m \u001b[0;32mnot\u001b[0m \u001b[0mgotit\u001b[0m\u001b[0;34m:\u001b[0m\u001b[0;34m\u001b[0m\u001b[0m\n\u001b[1;32m    361\u001b[0m                     \u001b[0;32mif\u001b[0m \u001b[0m__debug__\u001b[0m\u001b[0;34m:\u001b[0m\u001b[0;34m\u001b[0m\u001b[0m\n",
      "\u001b[0;31mKeyboardInterrupt\u001b[0m: "
     ]
    },
    {
     "name": "stderr",
     "output_type": "stream",
     "text": [
      "    self._train(X, y, w)\n",
      "  File \"//anaconda/lib/python2.7/site-packages/sknn/mlp.py\", line 151, in _train\n",
      "    avg_train_error = self._backend._train_impl(X, y, w)\n",
      "  File \"//anaconda/lib/python2.7/site-packages/sknn/backend/lasagne/mlp.py\", line 305, in _train_impl\n",
      "    return self._batch_impl(X, y, w, self.trainer, mode='train', output='.', shuffle=True)\n",
      "  File \"//anaconda/lib/python2.7/site-packages/sknn/backend/lasagne/mlp.py\", line 287, in _batch_impl\n",
      "    self._do_callback('on_batch_start', locals())\n",
      "KeyboardInterrupt\n"
     ]
    }
   ],
   "source": [
    "## # Store result into csv\n",
    "with open('data/results.csv', 'wb') as f:\n",
    "    writer = csv.writer(f)\n",
    "    for index in indexes:\n",
    "        print \"Start job %s...\" % index\n",
    "        try:\n",
    "            res = pool.apply_async(processInput, [index])      # runs in *only* one process\n",
    "            writer.writerows(res.get(timeout=max_t))\n",
    "            print \"Job %s done.\" % index\n",
    "        except TimeoutError:\n",
    "            print \"We lacked patience and got a multiprocessing.TimeoutError\""
   ]
  },
  {
   "cell_type": "code",
   "execution_count": null,
   "metadata": {
    "collapsed": true
   },
   "outputs": [],
   "source": []
  }
 ],
 "metadata": {
  "kernelspec": {
   "display_name": "Python 2",
   "language": "python",
   "name": "python2"
  },
  "language_info": {
   "codemirror_mode": {
    "name": "ipython",
    "version": 2
   },
   "file_extension": ".py",
   "mimetype": "text/x-python",
   "name": "python",
   "nbconvert_exporter": "python",
   "pygments_lexer": "ipython2",
   "version": "2.7.11"
  }
 },
 "nbformat": 4,
 "nbformat_minor": 0
}
