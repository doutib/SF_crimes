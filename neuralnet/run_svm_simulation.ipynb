{
 "cells": [
  {
   "cell_type": "code",
   "execution_count": 1,
   "metadata": {
    "collapsed": false
   },
   "outputs": [],
   "source": [
    "from svm import *\n",
    "from time import gmtime, strftime"
   ]
  },
  {
   "cell_type": "code",
   "execution_count": 2,
   "metadata": {
    "collapsed": false
   },
   "outputs": [],
   "source": [
    "## # Collect data\n",
    "df = pd.DataFrame.from_csv(\"data/data_train.csv\", index_col = None)\n",
    "date = strftime(\"%Y-%m-%d_%H:%M:%S\")\n",
    "filename = \"data/results_SVM_\"+date+\".csv\"\n",
    "\n",
    "# Separate labels from data\n",
    "X = df.drop(['Category'], axis = 1)\n",
    "Y = df[['Category']]\n",
    "\n",
    "## # Split data set into train/test\n",
    "prop_train=0.5\n",
    "np.random.seed(seed=1)\n",
    "msk = np.random.rand(len(X)) < prop_train\n",
    "X_train = np.array(X[msk],dtype='float64')\n",
    "Y_train = np.array(Y[msk])\n",
    "X_test =  np.array(X[~msk],dtype='float64')\n",
    "Y_test =  np.array(Y[~msk])"
   ]
  },
  {
   "cell_type": "code",
   "execution_count": null,
   "metadata": {
    "collapsed": false
   },
   "outputs": [],
   "source": [
    "## # Lauch simulation\n",
    "\n",
    "# Parameters\n",
    "C                       = [1.0]\n",
    "kernel                  = ['poly'] \n",
    "degree                  = [2,3,4]\n",
    "gamma                   = ['auto']\n",
    "tol                     = [0.001]\n",
    "decision_function_shape = ['ovr']\n",
    "\n",
    "results = svm_simulation(X_train,\n",
    "                         Y_train,\n",
    "                         X_test,\n",
    "                         Y_test,\n",
    "                         C,\n",
    "                         kernel,\n",
    "                         degree,\n",
    "                         gamma,\n",
    "                         tol,\n",
    "                         decision_function_shape)"
   ]
  },
  {
   "cell_type": "code",
   "execution_count": null,
   "metadata": {
    "collapsed": true
   },
   "outputs": [],
   "source": [
    "## # Write into csv file\n",
    "with open(filename, 'wb') as f:\n",
    "    writer = csv.writer(f)\n",
    "    writer.writerow( [  \"logloss\",\n",
    "                        \"miss_err\",\n",
    "                        \"prec\",\n",
    "                        \"recall\",\n",
    "                        \"f1\",\n",
    "                        \"C\",\n",
    "                        \"kernel\",\n",
    "                        \"degree\",\n",
    "                        \"gamma\",\n",
    "                        \"tol\",\n",
    "                        \"decision_function_shape\"] )\n",
    "    writer.writerows(results)"
   ]
  }
 ],
 "metadata": {
  "kernelspec": {
   "display_name": "Python 2",
   "language": "python",
   "name": "python2"
  },
  "language_info": {
   "codemirror_mode": {
    "name": "ipython",
    "version": 2
   },
   "file_extension": ".py",
   "mimetype": "text/x-python",
   "name": "python",
   "nbconvert_exporter": "python",
   "pygments_lexer": "ipython2",
   "version": "2.7.11"
  }
 },
 "nbformat": 4,
 "nbformat_minor": 0
}
